{
 "cells": [
  {
   "cell_type": "code",
   "execution_count": null,
   "metadata": {},
   "outputs": [],
   "source": [
    "write a python program with class concept to find the area of the triangle using the formula \n",
    "area=(s*(s-a)*(s-b)*(s-c))** 0.5\n",
    "function to take the length of sides of triangle from user should be defined in the parent class and function to calculate the \n",
    "area should be defined in subclass"
   ]
  },
  {
   "cell_type": "code",
   "execution_count": 9,
   "metadata": {},
   "outputs": [
    {
     "name": "stdout",
     "output_type": "stream",
     "text": [
      "Enter side a: 5\n",
      "Enter side b: 8\n",
      "Enter side c: 5\n",
      "Area of traingle is 12.0 cm²\n"
     ]
    }
   ],
   "source": [
    "class Area_Triangle:\n",
    "    def __init__(self):\n",
    "        self.a = float(input(\"Enter side a: \"))\n",
    "        self.b = float(input(\"Enter side b: \"))\n",
    "        self.c = float(input(\"Enter side c: \"))\n",
    "\n",
    "        s = (self.a + self.b + self.c) / 2\n",
    "        area = (s * (s - self.a)*(s - self.b)*(s - self.c)) ** 0.5\n",
    "        print(f\"Area of traingle is {area} cm\\u00b2\")\n",
    "\n",
    "x= Area_Triangle()\n"
   ]
  },
  {
   "cell_type": "code",
   "execution_count": 11,
   "metadata": {},
   "outputs": [],
   "source": [
    "#1.2 write a function filter_long_words() that takes a list of words and an integer n and returns the list of words that \n",
    "#are longer than n"
   ]
  },
  {
   "cell_type": "code",
   "execution_count": 12,
   "metadata": {},
   "outputs": [
    {
     "name": "stdout",
     "output_type": "stream",
     "text": [
      "Longest words are: ['Gayathri', 'Krishna', 'Hanuman']\n"
     ]
    }
   ],
   "source": [
    "def filter_long_words(words, n):\n",
    "    long=[]\n",
    "    for i in words:\n",
    "        if len(i) > n:\n",
    "            long.append(i)\n",
    "            \n",
    "    print(f\"Longest words are: {long}\")\n",
    "    \n",
    "   \n",
    "l=[\"Gayathri\",\"Raj\",\"Rama\",\"Krishna\",\"Hanuman\"]\n",
    "\n",
    "filter_long_words(l, 4)"
   ]
  },
  {
   "cell_type": "code",
   "execution_count": null,
   "metadata": {},
   "outputs": [],
   "source": [
    "2.1 write a python program using function concept that maps list of words into a list of integers representing the lengths\n",
    "of the corresponding words\n",
    "hint if a list[ab,cde,erty] is passed on the python function output should be [2,3,4] here 2,3 and 4 are the lengths of the \n",
    "words in the list"
   ]
  },
  {
   "cell_type": "code",
   "execution_count": 13,
   "metadata": {},
   "outputs": [],
   "source": [
    "\n",
    "def word_to_int(lst):\n",
    "    a1=[]\n",
    "    for i in lst:\n",
    "        a1.append(len(i))\n",
    "    return(a1)"
   ]
  },
  {
   "cell_type": "code",
   "execution_count": 14,
   "metadata": {},
   "outputs": [
    {
     "data": {
      "text/plain": [
       "[8, 3, 4, 7, 7]"
      ]
     },
     "execution_count": 14,
     "metadata": {},
     "output_type": "execute_result"
    }
   ],
   "source": [
    "words=[\"Gayathri\",\"Raj\",\"Rama\",\"Krishna\",\"Hanuman\"]\n",
    "word_to_int(words)\n"
   ]
  },
  {
   "cell_type": "code",
   "execution_count": 4,
   "metadata": {
    "scrolled": true
   },
   "outputs": [],
   "source": [
    "#2.2 write a python function which takes a character (ie a string of length 1) and returns True if it is a vowel ,false otherwise\n"
   ]
  },
  {
   "cell_type": "code",
   "execution_count": 15,
   "metadata": {},
   "outputs": [],
   "source": [
    "#char=input(\"Enter a character: \")\n",
    "def vowel(char):    \n",
    "    if char in ('a','A','e','E','i','I','o','O','u','U'):\n",
    "        return(\"True\")\n",
    "    else:\n",
    "        return('False')  \n"
   ]
  },
  {
   "cell_type": "code",
   "execution_count": 16,
   "metadata": {},
   "outputs": [
    {
     "name": "stdout",
     "output_type": "stream",
     "text": [
      "Input character: a\n"
     ]
    },
    {
     "data": {
      "text/plain": [
       "'True'"
      ]
     },
     "execution_count": 16,
     "metadata": {},
     "output_type": "execute_result"
    }
   ],
   "source": [
    "vowel(input('Input character: '))\n"
   ]
  }
 ],
 "metadata": {
  "kernelspec": {
   "display_name": "Python 3",
   "language": "python",
   "name": "python3"
  },
  "language_info": {
   "codemirror_mode": {
    "name": "ipython",
    "version": 3
   },
   "file_extension": ".py",
   "mimetype": "text/x-python",
   "name": "python",
   "nbconvert_exporter": "python",
   "pygments_lexer": "ipython3",
   "version": "3.7.4"
  }
 },
 "nbformat": 4,
 "nbformat_minor": 2
}
